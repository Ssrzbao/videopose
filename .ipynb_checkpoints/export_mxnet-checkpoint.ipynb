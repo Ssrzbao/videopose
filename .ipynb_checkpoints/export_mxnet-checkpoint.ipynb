{
 "cells": [
  {
   "cell_type": "code",
   "execution_count": 1,
   "metadata": {},
   "outputs": [],
   "source": [
    "import numpy as np\n",
    "\n",
    "from common.jpt_arguments import parse_args\n",
    "import torch\n",
    "\n",
    "import torch.nn as nn\n",
    "import torch.nn.functional as F\n",
    "import torch.optim as optim\n",
    "import os\n",
    "import sys\n",
    "import errno\n",
    "\n",
    "from common.camera import *\n",
    "from common.model import *\n",
    "from common.loss import *\n",
    "from common.generators import ChunkedGenerator, UnchunkedGenerator\n",
    "from time import time\n",
    "metadata={'layout_name': 'coco','num_joints': 17,'keypoints_symmetry': [[1, 3, 5, 7, 9, 11, 13, 15],[2, 4, 6, 8, 10, 12, 14, 16]]}\n",
    "\n",
    "args = parse_args()\n",
    "# print(args)\n",
    "\n",
    "import time\n",
    "# record time\n",
    "def ckpt_time(ckpt=None):\n",
    "    if not ckpt:\n",
    "        return time.time()\n",
    "    else:\n",
    "        return time.time() - float(ckpt), time.time()\n",
    "\n",
    "\n",
    "class skeleton():\n",
    "    def parents(self):\n",
    "        return np.array([-1,  0,  1,  2,  0,  4,  5,  0,  7,  8,  9,  8, 11, 12,  8, 14, 15])\n",
    "    def joints_right(self):\n",
    "        return [1, 2, 3, 9, 10]\n",
    "\n"
   ]
  },
  {
   "cell_type": "code",
   "execution_count": 2,
   "metadata": {},
   "outputs": [
    {
     "name": "stdout",
     "output_type": "stream",
     "text": [
      "load data/taiji.npz\n",
      "------- load data spends 0.013913154602050781 seconds\n"
     ]
    }
   ],
   "source": [
    "# 2D kpts loads\n",
    "if not args.input_npz:\n",
    "    npz = np.load('data/taiji.npz')\n",
    "    print('load data/taiji.npz')\n",
    "else:\n",
    "    npz = np.load(args.input_npz)\n",
    "\n",
    "keypoints = npz['kpts']\n",
    "\n",
    "\n",
    "keypoints_symmetry = metadata['keypoints_symmetry']\n",
    "kps_left, kps_right = list(keypoints_symmetry[0]), list(keypoints_symmetry[1])\n",
    "joints_left, joints_right = list([4, 5, 6, 11, 12, 13]), list([1, 2, 3, 14, 15, 16])\n",
    "\n",
    "# normlization keypoints  假设use the camera parameter\n",
    "keypoints[..., :2] = normalize_screen_coordinates(keypoints[..., :2], w=1000, h=1002)\n",
    "\n",
    "\n"
   ]
  },
  {
   "cell_type": "code",
   "execution_count": 3,
   "metadata": {},
   "outputs": [
    {
     "name": "stdout",
     "output_type": "stream",
     "text": [
      "Loading checkpoint checkpoint/cpn-pt-243.bin\n",
      "------- load 3D model spends 3.143253803253174 seconds\n"
     ]
    }
   ],
   "source": [
    "model_pos = TemporalModel(17, 2, 17,filter_widths=[3, 3, 3, 3, 3], causal=args.causal, dropout=args.dropout, channels=args.channels,\n",
    "                            dense=args.dense)\n",
    "if torch.cuda.is_available():\n",
    "    model_pos = model_pos.cuda()\n",
    "\n",
    "\n",
    "# load trained model\n",
    "chk_filename = os.path.join(args.checkpoint, args.resume if args.resume else args.evaluate)\n",
    "print('Loading checkpoint', chk_filename)\n",
    "checkpoint = torch.load(chk_filename, map_location=lambda storage, loc: storage)# 把loc映射到storage\n",
    "model_pos.load_state_dict(checkpoint['model_pos'])\n",
    "\n",
    "\n"
   ]
  },
  {
   "cell_type": "code",
   "execution_count": 4,
   "metadata": {},
   "outputs": [
    {
     "name": "stdout",
     "output_type": "stream",
     "text": [
      "Rendering...\n",
      "------- generate reconstruction 3D data spends 0.029860258102416992 seconds\n"
     ]
    }
   ],
   "source": [
    "#  Receptive field: 243 frames for args.arc [3, 3, 3, 3, 3]\n",
    "receptive_field = model_pos.receptive_field()\n",
    "pad = (receptive_field - 1) // 2 # Padding on each side\n",
    "causal_shift = 0\n",
    "\n",
    "def evaluate(test_generator, action=None, return_predictions=False):\n",
    "    with torch.no_grad():\n",
    "        model_pos.eval()\n",
    "        N = 0\n",
    "        for _, batch, batch_2d in test_generator.next_epoch():\n",
    "            inputs_2d = torch.from_numpy(batch_2d.astype('float32'))\n",
    "            if torch.cuda.is_available():\n",
    "                inputs_2d = inputs_2d.cuda()\n",
    "\n",
    "            # Positional model\n",
    "            predicted_3d_pos = model_pos(inputs_2d)\n",
    "\n",
    "\n",
    "            # Test-time augmentation (if enabled)\n",
    "            if test_generator.augment_enabled():\n",
    "                # Undo flipping and take average with non-flipped version\n",
    "                predicted_3d_pos[1, :, :, 0] *= -1\n",
    "                predicted_3d_pos[1, :, joints_left + joints_right] = predicted_3d_pos[1, :, joints_right + joints_left]\n",
    "                predicted_3d_pos = torch.mean(predicted_3d_pos, dim=0, keepdim=True)\n",
    "\n",
    "            if return_predictions:\n",
    "                return predicted_3d_pos.squeeze(0).cpu().numpy()\n",
    "\n",
    "\n",
    "\n",
    "print('Rendering...')\n",
    "input_keypoints = keypoints.copy()\n",
    "gen = UnchunkedGenerator(None, None, [input_keypoints],\n",
    "                            pad=pad, causal_shift=causal_shift, augment=args.test_time_augmentation,\n",
    "                            kps_left=kps_left, kps_right=kps_right, joints_left=joints_left, joints_right=joints_right)\n",
    "prediction = evaluate(gen, return_predictions=True)\n",
    "\n",
    "\n",
    "rot = np.array([ 0.14070565, -0.15007018, -0.7552408 ,  0.62232804], dtype=np.float32)\n",
    "prediction = camera_to_world(prediction, R=rot, t=0)\n",
    "\n",
    "# We don't have the trajectory, but at least we can rebase the height\n",
    "prediction[:, :, 2] -= np.min(prediction[:, :, 2])\n",
    "anim_output = {'Reconstruction': prediction}\n",
    "\n",
    "input_keypoints = image_coordinates(input_keypoints[..., :2], w=1000, h=1002)\n",
    "\n",
    "\n"
   ]
  },
  {
   "cell_type": "code",
   "execution_count": 5,
   "metadata": {},
   "outputs": [
    {
     "data": {
      "text/plain": [
       "30000"
      ]
     },
     "execution_count": 5,
     "metadata": {},
     "output_type": "execute_result"
    },
    {
     "data": {
      "text/plain": [
       "0"
      ]
     },
     "execution_count": 5,
     "metadata": {},
     "output_type": "execute_result"
    }
   ],
   "source": [
    "args.viz_bitrate\n",
    "args.viz_skip\n",
    "args.viz_size = 5     #5"
   ]
  },
  {
   "cell_type": "code",
   "execution_count": 7,
   "metadata": {},
   "outputs": [
    {
     "name": "stdout",
     "output_type": "stream",
     "text": [
      "------- generaye video spends 12.55588698387146 seconds\n"
     ]
    }
   ],
   "source": [
    "args.viz_limit = 100\n",
    "args.viz_output = 'xxxxs3.gif'\n",
    "time3 = ckpt_time()    \n",
    "from common.visualization import render_animation\n",
    "render_animation(input_keypoints, anim_output,\n",
    "                    skeleton(), 25, args.viz_bitrate, np.array(70., dtype=np.float32), args.viz_output,\n",
    "                    limit=args.viz_limit, downsample=args.viz_downsample, size=args.viz_size,\n",
    "                    input_video_path=args.viz_video, viewport=(1000, 1002),\n",
    "                    input_video_skip=args.viz_skip)\n",
    "\n",
    "ckpt, time4 = ckpt_time(time3)\n",
    "print('------- generaye video spends {} seconds'.format(ckpt))\n"
   ]
  },
  {
   "cell_type": "code",
   "execution_count": null,
   "metadata": {},
   "outputs": [],
   "source": []
  },
  {
   "cell_type": "code",
   "execution_count": null,
   "metadata": {},
   "outputs": [],
   "source": []
  },
  {
   "cell_type": "code",
   "execution_count": null,
   "metadata": {},
   "outputs": [],
   "source": []
  },
  {
   "cell_type": "code",
   "execution_count": null,
   "metadata": {},
   "outputs": [],
   "source": []
  }
 ],
 "metadata": {
  "kernelspec": {
   "display_name": "DL",
   "language": "python",
   "name": "dl"
  },
  "language_info": {
   "codemirror_mode": {
    "name": "ipython",
    "version": 3
   },
   "file_extension": ".py",
   "mimetype": "text/x-python",
   "name": "python",
   "nbconvert_exporter": "python",
   "pygments_lexer": "ipython3",
   "version": "3.6.8"
  }
 },
 "nbformat": 4,
 "nbformat_minor": 2
}
